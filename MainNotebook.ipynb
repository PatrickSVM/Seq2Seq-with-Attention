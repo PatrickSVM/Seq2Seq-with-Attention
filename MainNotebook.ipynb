{
 "cells": [
  {
   "attachments": {},
   "cell_type": "markdown",
   "metadata": {},
   "source": [
    "# Seq2Seq Machine Translation with Attention"
   ]
  },
  {
   "attachments": {},
   "cell_type": "markdown",
   "metadata": {},
   "source": [
    "## 1. Preprocessing\n",
    "\n",
    "Dataset link: https://www.statmt.org/wmt13/training-parallel-europarl-v7.tgz"
   ]
  },
  {
   "cell_type": "code",
   "execution_count": 27,
   "metadata": {},
   "outputs": [
    {
     "name": "stdout",
     "output_type": "stream",
     "text": [
      "1920209\n",
      "1920209\n"
     ]
    }
   ],
   "source": [
    "# Check the size of both datasets\n",
    "with open(\"./data/unprocessed/europarl-v7.de-en.de\") as file:\n",
    "    ger = [line.rstrip() for line in file]\n",
    "with open(\"./data/unprocessed/europarl-v7.de-en.en\") as file:\n",
    "    eng = [line.rstrip() for line in file]\n",
    "\n",
    "print(len(eng))\n",
    "print(len(ger))"
   ]
  },
  {
   "cell_type": "code",
   "execution_count": 12,
   "metadata": {},
   "outputs": [
    {
     "name": "stdout",
     "output_type": "stream",
     "text": [
      "The autoreload extension is already loaded. To reload it, use:\n",
      "  %reload_ext autoreload\n"
     ]
    }
   ],
   "source": [
    "%load_ext autoreload\n",
    "%autoreload 2"
   ]
  },
  {
   "cell_type": "code",
   "execution_count": 13,
   "metadata": {},
   "outputs": [
    {
     "name": "stdout",
     "output_type": "stream",
     "text": [
      "File successfully created.\n",
      "11289 lines were removed.\n"
     ]
    }
   ],
   "source": [
    "from seq2seq_attention.preprocess import get_parallel_csv\n",
    "\n",
    "# Take \">\" as seperator since it is not included in the text - unique to seperate eng-ger pairs. \n",
    "# There were 7 occurences in total of > which were removed by hand before\n",
    "get_parallel_csv(path_1=\"./data/unprocessed/europarl-v7.de-en.de\", path_2=\"./data/unprocessed/europarl-v7.de-en.en\", new_file_path=\"./data/processed/en_ger_full.csv\", delimiter=\">\")"
   ]
  },
  {
   "cell_type": "code",
   "execution_count": 20,
   "metadata": {},
   "outputs": [
    {
     "name": "stdout",
     "output_type": "stream",
     "text": [
      "File successfully created.\n",
      "15555 sentence-pairs were removed.\n"
     ]
    }
   ],
   "source": [
    "# Remove sentences with lower number of words\n",
    "from seq2seq_attention.preprocess import remove_short_sentences\n",
    "remove_short_sentences(data_dir=\"./data/processed/en_ger_full.csv\", min_length=4, delimiter=\">\", new_file_path=\"./data/processed/en_ger_full_removed_sent_len.csv\")"
   ]
  },
  {
   "cell_type": "code",
   "execution_count": 22,
   "metadata": {},
   "outputs": [
    {
     "name": "stdout",
     "output_type": "stream",
     "text": [
      "All files successfully created.\n"
     ]
    }
   ],
   "source": [
    "from seq2seq_attention.preprocess import train_test_split\n",
    "train_test_split(file_path=\"./data/processed/en_ger_full_removed_sent_len.csv\", sep=\">\", random_seed=118, dir=\"./data/processed\")"
   ]
  },
  {
   "cell_type": "code",
   "execution_count": 25,
   "metadata": {},
   "outputs": [],
   "source": [
    "# Check files\n",
    "import pandas as pd\n",
    "train = pd.read_csv(\"./data/processed/train.csv\", header=None, sep=\">\", names=[\"ger\", \"eng\"])\n",
    "val = pd.read_csv(\"./data/processed/val.csv\", header=None, sep=\">\", names=[\"ger\", \"eng\"])\n",
    "test = pd.read_csv(\"./data/processed/test.csv\", header=None,sep=\">\", names=[\"ger\", \"eng\"])"
   ]
  },
  {
   "cell_type": "code",
   "execution_count": 26,
   "metadata": {},
   "outputs": [
    {
     "name": "stdout",
     "output_type": "stream",
     "text": [
      "Train: 1514692, Val: 189336, Test: 189337\n",
      "Total: 1893365\n",
      "Total + Removed: 1920209\n"
     ]
    }
   ],
   "source": [
    "train_len = len(train)\n",
    "val_len = len(val)\n",
    "test_len = len(test)\n",
    "print(f\"Train: {train_len}, Val: {val_len}, Test: {test_len}\")\n",
    "print(f\"Total: {train_len+val_len+test_len}\")\n",
    "print(f\"Total + Removed: {train_len+val_len+test_len+11289+15555}\")"
   ]
  },
  {
   "cell_type": "code",
   "execution_count": 253,
   "metadata": {},
   "outputs": [
    {
     "data": {
      "text/html": [
       "<div>\n",
       "<style scoped>\n",
       "    .dataframe tbody tr th:only-of-type {\n",
       "        vertical-align: middle;\n",
       "    }\n",
       "\n",
       "    .dataframe tbody tr th {\n",
       "        vertical-align: top;\n",
       "    }\n",
       "\n",
       "    .dataframe thead th {\n",
       "        text-align: right;\n",
       "    }\n",
       "</style>\n",
       "<table border=\"1\" class=\"dataframe\">\n",
       "  <thead>\n",
       "    <tr style=\"text-align: right;\">\n",
       "      <th></th>\n",
       "      <th>ger</th>\n",
       "      <th>eng</th>\n",
       "    </tr>\n",
       "  </thead>\n",
       "  <tbody>\n",
       "    <tr>\n",
       "      <th>0</th>\n",
       "      <td>Gegenwärtig hat jeder fünfte Mensch auf der We...</td>\n",
       "      <td>At present, one in five people across the glo...</td>\n",
       "    </tr>\n",
       "    <tr>\n",
       "      <th>1</th>\n",
       "      <td>Leider entsprechen die Entscheidungen des Rate...</td>\n",
       "      <td>Sadly, the Council's decisions are not always...</td>\n",
       "    </tr>\n",
       "    <tr>\n",
       "      <th>2</th>\n",
       "      <td>Dies ist das Prinzip vom 11. März 2011.</td>\n",
       "      <td>This is the principle of 11 March 2011.</td>\n",
       "    </tr>\n",
       "    <tr>\n",
       "      <th>3</th>\n",
       "      <td>In Bezug auf den Inhalt des Dossiers möchte ic...</td>\n",
       "      <td>Regarding the substance of the dossier, witho...</td>\n",
       "    </tr>\n",
       "    <tr>\n",
       "      <th>4</th>\n",
       "      <td>Ich warne vor Vereinfachungen. Drei Vereinfach...</td>\n",
       "      <td>I would warn against over-simplification, thr...</td>\n",
       "    </tr>\n",
       "  </tbody>\n",
       "</table>\n",
       "</div>"
      ],
      "text/plain": [
       "                                                 ger  \\\n",
       "0  Gegenwärtig hat jeder fünfte Mensch auf der We...   \n",
       "1  Leider entsprechen die Entscheidungen des Rate...   \n",
       "2           Dies ist das Prinzip vom 11. März 2011.    \n",
       "3  In Bezug auf den Inhalt des Dossiers möchte ic...   \n",
       "4  Ich warne vor Vereinfachungen. Drei Vereinfach...   \n",
       "\n",
       "                                                 eng  \n",
       "0   At present, one in five people across the glo...  \n",
       "1   Sadly, the Council's decisions are not always...  \n",
       "2            This is the principle of 11 March 2011.  \n",
       "3   Regarding the substance of the dossier, witho...  \n",
       "4   I would warn against over-simplification, thr...  "
      ]
     },
     "execution_count": 253,
     "metadata": {},
     "output_type": "execute_result"
    }
   ],
   "source": [
    "train.head()"
   ]
  },
  {
   "cell_type": "code",
   "execution_count": 254,
   "metadata": {},
   "outputs": [
    {
     "data": {
      "text/html": [
       "<div>\n",
       "<style scoped>\n",
       "    .dataframe tbody tr th:only-of-type {\n",
       "        vertical-align: middle;\n",
       "    }\n",
       "\n",
       "    .dataframe tbody tr th {\n",
       "        vertical-align: top;\n",
       "    }\n",
       "\n",
       "    .dataframe thead th {\n",
       "        text-align: right;\n",
       "    }\n",
       "</style>\n",
       "<table border=\"1\" class=\"dataframe\">\n",
       "  <thead>\n",
       "    <tr style=\"text-align: right;\">\n",
       "      <th></th>\n",
       "      <th>ger</th>\n",
       "      <th>eng</th>\n",
       "    </tr>\n",
       "  </thead>\n",
       "  <tbody>\n",
       "    <tr>\n",
       "      <th>0</th>\n",
       "      <td>Handelsbeziehungen und Gipfelkonferenz EU/USA</td>\n",
       "      <td>EU/USA summit and trade relations</td>\n",
       "    </tr>\n",
       "    <tr>\n",
       "      <th>1</th>\n",
       "      <td>Die Versuche gehen ja nun schon lange, sie sin...</td>\n",
       "      <td>Efforts have been going on for a long time no...</td>\n",
       "    </tr>\n",
       "    <tr>\n",
       "      <th>2</th>\n",
       "      <td>Ein Beispiel: für Fische wie den Seehecht, der...</td>\n",
       "      <td>To give you an example, fish such as hake 11 ...</td>\n",
       "    </tr>\n",
       "    <tr>\n",
       "      <th>3</th>\n",
       "      <td>Wenn Sie mit der gleichen Energie und mit der ...</td>\n",
       "      <td>If you act at European level with the same en...</td>\n",
       "    </tr>\n",
       "    <tr>\n",
       "      <th>4</th>\n",
       "      <td>Ich muss alle, die diesen Änderungsantrag vorg...</td>\n",
       "      <td>I have to ask those who proposed the amendmen...</td>\n",
       "    </tr>\n",
       "  </tbody>\n",
       "</table>\n",
       "</div>"
      ],
      "text/plain": [
       "                                                 ger  \\\n",
       "0     Handelsbeziehungen und Gipfelkonferenz EU/USA    \n",
       "1  Die Versuche gehen ja nun schon lange, sie sin...   \n",
       "2  Ein Beispiel: für Fische wie den Seehecht, der...   \n",
       "3  Wenn Sie mit der gleichen Energie und mit der ...   \n",
       "4  Ich muss alle, die diesen Änderungsantrag vorg...   \n",
       "\n",
       "                                                 eng  \n",
       "0                  EU/USA summit and trade relations  \n",
       "1   Efforts have been going on for a long time no...  \n",
       "2   To give you an example, fish such as hake 11 ...  \n",
       "3   If you act at European level with the same en...  \n",
       "4   I have to ask those who proposed the amendmen...  "
      ]
     },
     "execution_count": 254,
     "metadata": {},
     "output_type": "execute_result"
    }
   ],
   "source": [
    "val.head()"
   ]
  },
  {
   "cell_type": "code",
   "execution_count": 121,
   "metadata": {},
   "outputs": [
    {
     "data": {
      "text/html": [
       "<div>\n",
       "<style scoped>\n",
       "    .dataframe tbody tr th:only-of-type {\n",
       "        vertical-align: middle;\n",
       "    }\n",
       "\n",
       "    .dataframe tbody tr th {\n",
       "        vertical-align: top;\n",
       "    }\n",
       "\n",
       "    .dataframe thead th {\n",
       "        text-align: right;\n",
       "    }\n",
       "</style>\n",
       "<table border=\"1\" class=\"dataframe\">\n",
       "  <thead>\n",
       "    <tr style=\"text-align: right;\">\n",
       "      <th></th>\n",
       "      <th>ger</th>\n",
       "      <th>eng</th>\n",
       "    </tr>\n",
       "  </thead>\n",
       "  <tbody>\n",
       "    <tr>\n",
       "      <th>0</th>\n",
       "      <td>Möge er so weitermachen!</td>\n",
       "      <td>May he continue to do so.</td>\n",
       "    </tr>\n",
       "    <tr>\n",
       "      <th>1</th>\n",
       "      <td>Es geht jedoch um einen neuen Ansatz, über den...</td>\n",
       "      <td>However, it is about a new approach that I re...</td>\n",
       "    </tr>\n",
       "    <tr>\n",
       "      <th>2</th>\n",
       "      <td>Diese spontanen Beweise der Solidarität waren ...</td>\n",
       "      <td>This spontaneous show of solidarity has been ...</td>\n",
       "    </tr>\n",
       "    <tr>\n",
       "      <th>3</th>\n",
       "      <td>Die beiden schwierigeren Punkte betrafen die A...</td>\n",
       "      <td>The two more difficult points concerned the a...</td>\n",
       "    </tr>\n",
       "    <tr>\n",
       "      <th>4</th>\n",
       "      <td>Alle leben noch in Angst.</td>\n",
       "      <td>Everyone is still afraid.</td>\n",
       "    </tr>\n",
       "  </tbody>\n",
       "</table>\n",
       "</div>"
      ],
      "text/plain": [
       "                                                 ger  \\\n",
       "0                          Möge er so weitermachen!    \n",
       "1  Es geht jedoch um einen neuen Ansatz, über den...   \n",
       "2  Diese spontanen Beweise der Solidarität waren ...   \n",
       "3  Die beiden schwierigeren Punkte betrafen die A...   \n",
       "4                         Alle leben noch in Angst.    \n",
       "\n",
       "                                                 eng  \n",
       "0                          May he continue to do so.  \n",
       "1   However, it is about a new approach that I re...  \n",
       "2   This spontaneous show of solidarity has been ...  \n",
       "3   The two more difficult points concerned the a...  \n",
       "4                          Everyone is still afraid.  "
      ]
     },
     "execution_count": 121,
     "metadata": {},
     "output_type": "execute_result"
    }
   ],
   "source": [
    "test.head()"
   ]
  },
  {
   "attachments": {},
   "cell_type": "markdown",
   "metadata": {},
   "source": [
    "## 2. Initialize Dataloaders"
   ]
  },
  {
   "cell_type": "code",
   "execution_count": 28,
   "metadata": {},
   "outputs": [],
   "source": [
    "from seq2seq_attention.build_dataloaders import build_fields, build_bucket_iterator, get_datasets, build_vocab\n",
    "BATCH_SIZE = 100\n",
    "DEVICE = \"cpu\"\n",
    "\n",
    "src_field, trg_field = build_fields()\n",
    "train_set, val_set, test_set = get_datasets(train_path=\"./data/processed/train.csv\", \n",
    "                                            val_path=\"./data/processed/val.csv\", \n",
    "                                            test_path=\"./data/processed/test.csv\", \n",
    "                                            src_field=src_field, \n",
    "                                            trg_field=trg_field)\n",
    "build_vocab(src_field=src_field, trg_field=trg_field, train_set=train_set)"
   ]
  },
  {
   "cell_type": "code",
   "execution_count": null,
   "metadata": {},
   "outputs": [],
   "source": [
    "# Check vocabulary \n"
   ]
  },
  {
   "cell_type": "code",
   "execution_count": 29,
   "metadata": {},
   "outputs": [],
   "source": [
    "train_loader = build_bucket_iterator(dataset=train_set, batch_size=BATCH_SIZE, device=DEVICE)\n",
    "val_loader = build_bucket_iterator(dataset=val_set, batch_size=BATCH_SIZE, device=DEVICE)\n",
    "test_loader = build_bucket_iterator(dataset=test_set, batch_size=BATCH_SIZE, device=DEVICE)"
   ]
  },
  {
   "cell_type": "code",
   "execution_count": 30,
   "metadata": {},
   "outputs": [],
   "source": [
    "# Retrieve sample batch\n",
    "iterator = iter(train_loader)"
   ]
  },
  {
   "cell_type": "code",
   "execution_count": 44,
   "metadata": {},
   "outputs": [
    {
     "name": "stdout",
     "output_type": "stream",
     "text": [
      "torch.Size([100, 6]) torch.Size([100])\n",
      "torch.Size([100, 16]) torch.Size([100])\n"
     ]
    }
   ],
   "source": [
    "example = next(iterator)\n",
    "src_batch = example.src\n",
    "trg_batch = example.trg\n",
    "print(src_batch[0].shape, src_batch[1].shape)\n",
    "print(trg_batch[0].shape, trg_batch[1].shape)"
   ]
  },
  {
   "cell_type": "code",
   "execution_count": 45,
   "metadata": {},
   "outputs": [
    {
     "name": "stdout",
     "output_type": "stream",
     "text": [
      "tensor([6, 6, 6, 6, 6, 6, 6, 6, 6, 6, 6, 6, 6, 6, 6, 6, 6, 6, 6, 6, 6, 6, 6, 6,\n",
      "        6, 6, 6, 6, 6, 6, 6, 6, 6, 6, 6, 6, 6, 6, 6, 6, 6, 6, 6, 6, 6, 6, 6, 6,\n",
      "        6, 6, 6, 6, 6, 6, 6, 6, 6, 6, 6, 6, 6, 6, 6, 6, 6, 6, 6, 6, 6, 6, 6, 6,\n",
      "        6, 6, 6, 6, 6, 6, 6, 6, 6, 6, 6, 6, 6, 6, 6, 6, 6, 6, 6, 6, 6, 6, 6, 6,\n",
      "        6, 6, 6, 6])\n"
     ]
    }
   ],
   "source": [
    "print(src_batch[1])"
   ]
  },
  {
   "cell_type": "code",
   "execution_count": 46,
   "metadata": {},
   "outputs": [
    {
     "name": "stdout",
     "output_type": "stream",
     "text": [
      "tensor([ 6,  6,  8,  8,  7,  7,  6,  5,  8,  6,  7,  6,  8,  8,  8, 10,  9,  7,\n",
      "         4,  6,  6,  6,  4,  5, 14,  7,  6,  9,  6,  8,  4,  6,  6,  8,  8,  5,\n",
      "         6,  6,  7,  6,  6,  6,  7,  4,  7, 10,  5,  6,  6,  5,  7,  6,  6,  4,\n",
      "         6,  6,  7,  5,  6,  5,  6,  8,  6,  6,  6, 11, 16,  6,  7,  6,  9,  6,\n",
      "         8,  6,  6,  4,  5,  6,  4,  4,  6,  6,  6,  7,  5,  5,  7,  6,  7,  9,\n",
      "         9,  6,  6,  4,  6,  7,  6, 13, 11,  8])\n"
     ]
    }
   ],
   "source": [
    "print(trg_batch[1])"
   ]
  },
  {
   "cell_type": "code",
   "execution_count": 51,
   "metadata": {},
   "outputs": [
    {
     "name": "stdout",
     "output_type": "stream",
     "text": [
      " <sos> was steckt dahinter ? <eos>\n",
      " <sos> for what purpose ? <eos> <pad> <pad> <pad> <pad> <pad> <pad> <pad> <pad> <pad> <pad>\n",
      "\n",
      " <sos> was das ist ? <eos>\n",
      " <sos> what is that ? <eos> <pad> <pad> <pad> <pad> <pad> <pad> <pad> <pad> <pad> <pad>\n",
      "\n",
      " <sos> wollen wir das ? <eos>\n",
      " <sos> is that what we want ? <eos> <pad> <pad> <pad> <pad> <pad> <pad> <pad> <pad>\n",
      "\n",
      " <sos> mittelübertragungen : siehe protokoll <eos>\n",
      " <sos> transfers of appropriations : see minutes <eos> <pad> <pad> <pad> <pad> <pad> <pad> <pad> <pad>\n",
      "\n",
      " <sos> eine krise reicht . <eos>\n",
      " <sos> one crisis is enough . <eos> <pad> <pad> <pad> <pad> <pad> <pad> <pad> <pad> <pad>\n",
      "\n"
     ]
    }
   ],
   "source": [
    "# itos is list of token strings with their idx \n",
    "for j in range(5):\n",
    "    src = \"\"\n",
    "    for i in src_batch[0][j]:\n",
    "       src = \" \".join([src,  src_field.vocab.itos[i]])\n",
    "    print(src)\n",
    "    trg = \"\"\n",
    "    for i in trg_batch[0][j]:\n",
    "        trg = \" \".join([trg, trg_field.vocab.itos[i]])\n",
    "    print(trg)\n",
    "    print()\n",
    "# The second element in the tuple is the real length that we pass to the packed_seq!"
   ]
  },
  {
   "cell_type": "code",
   "execution_count": null,
   "metadata": {},
   "outputs": [],
   "source": []
  }
 ],
 "metadata": {
  "kernelspec": {
   "display_name": "TextMining",
   "language": "python",
   "name": "python3"
  },
  "language_info": {
   "codemirror_mode": {
    "name": "ipython",
    "version": 3
   },
   "file_extension": ".py",
   "mimetype": "text/x-python",
   "name": "python",
   "nbconvert_exporter": "python",
   "pygments_lexer": "ipython3",
   "version": "3.9.15"
  },
  "orig_nbformat": 4
 },
 "nbformat": 4,
 "nbformat_minor": 2
}
