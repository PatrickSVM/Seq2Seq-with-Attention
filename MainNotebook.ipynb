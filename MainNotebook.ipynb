{
 "cells": [
  {
   "attachments": {},
   "cell_type": "markdown",
   "metadata": {},
   "source": [
    "# Seq2Seq Machine Translation with Attention"
   ]
  },
  {
   "attachments": {},
   "cell_type": "markdown",
   "metadata": {},
   "source": [
    "## 1. Preprocessing"
   ]
  },
  {
   "cell_type": "code",
   "execution_count": null,
   "metadata": {},
   "outputs": [],
   "source": [
    "# Check the size of both datasets\n",
    "with open(\"./data/europarl-v7.de-en.de\") as file:\n",
    "    ger = [line.rstrip() for line in file]\n",
    "with open(\"./data/europarl-v7.de-en.en\") as file:\n",
    "    eng = [line.rstrip() for line in file]\n",
    "\n",
    "print(len(eng))\n",
    "print(len(ger))"
   ]
  },
  {
   "cell_type": "code",
   "execution_count": 9,
   "metadata": {},
   "outputs": [
    {
     "name": "stdout",
     "output_type": "stream",
     "text": [
      "The autoreload extension is already loaded. To reload it, use:\n",
      "  %reload_ext autoreload\n"
     ]
    }
   ],
   "source": [
    "%load_ext autoreload\n",
    "%autoreload "
   ]
  },
  {
   "cell_type": "code",
   "execution_count": 115,
   "metadata": {},
   "outputs": [
    {
     "name": "stdout",
     "output_type": "stream",
     "text": [
      "File successfully created.\n",
      "11289 lines were removed.\n"
     ]
    }
   ],
   "source": [
    "from seq2seq_attention.preprocess import get_parallel_csv\n",
    "\n",
    "# Take \">\" as dseperator since it is not included in the text - unique to seperate eng-ger pairs. \n",
    "# There were 7 occurences in total of > which were removed by hand before\n",
    "get_parallel_csv(path_1=\"./data/europarl-v7.de-en.de\", path_2=\"./data/europarl-v7.de-en.en\", new_file_path=\"./data/en_ger_full.csv\", delimiter=\">\")"
   ]
  },
  {
   "cell_type": "code",
   "execution_count": 116,
   "metadata": {},
   "outputs": [
    {
     "name": "stdout",
     "output_type": "stream",
     "text": [
      "All files successfully created.\n"
     ]
    }
   ],
   "source": [
    "from seq2seq_attention.preprocess import train_test_split\n",
    "train_test_split(file_path=\"./data/en_ger_full.csv\", sep=\">\", random_seed=118, dir=\"./data\")"
   ]
  },
  {
   "cell_type": "code",
   "execution_count": 117,
   "metadata": {},
   "outputs": [],
   "source": [
    "# Check files\n",
    "import pandas as pd\n",
    "train = pd.read_csv(\"./data/train.csv\", header=None, sep=\">\", names=[\"ger\", \"eng\"])\n",
    "val = pd.read_csv(\"./data/val.csv\", header=None, sep=\">\", names=[\"ger\", \"eng\"])\n",
    "test = pd.read_csv(\"./data/test.csv\", header=None,sep=\">\", names=[\"ger\", \"eng\"])"
   ]
  },
  {
   "cell_type": "code",
   "execution_count": 118,
   "metadata": {},
   "outputs": [
    {
     "name": "stdout",
     "output_type": "stream",
     "text": [
      "Train: 1527136, Val: 190892, Test: 190892\n",
      "Total: 1908920\n",
      "Total + Removed: 1920209\n"
     ]
    }
   ],
   "source": [
    "train_len = len(train)\n",
    "val_len = len(val)\n",
    "test_len = len(test)\n",
    "print(f\"Train: {train_len}, Val: {val_len}, Test: {test_len}\")\n",
    "print(f\"Total: {train_len+val_len+test_len}\")\n",
    "print(f\"Total + Removed: {train_len+val_len+test_len+11289}\")"
   ]
  },
  {
   "cell_type": "code",
   "execution_count": 119,
   "metadata": {},
   "outputs": [
    {
     "data": {
      "text/html": [
       "<div>\n",
       "<style scoped>\n",
       "    .dataframe tbody tr th:only-of-type {\n",
       "        vertical-align: middle;\n",
       "    }\n",
       "\n",
       "    .dataframe tbody tr th {\n",
       "        vertical-align: top;\n",
       "    }\n",
       "\n",
       "    .dataframe thead th {\n",
       "        text-align: right;\n",
       "    }\n",
       "</style>\n",
       "<table border=\"1\" class=\"dataframe\">\n",
       "  <thead>\n",
       "    <tr style=\"text-align: right;\">\n",
       "      <th></th>\n",
       "      <th>ger</th>\n",
       "      <th>eng</th>\n",
       "    </tr>\n",
       "  </thead>\n",
       "  <tbody>\n",
       "    <tr>\n",
       "      <th>0</th>\n",
       "      <td>Gegenwärtig hat jeder fünfte Mensch auf der We...</td>\n",
       "      <td>At present, one in five people across the glo...</td>\n",
       "    </tr>\n",
       "    <tr>\n",
       "      <th>1</th>\n",
       "      <td>Leider entsprechen die Entscheidungen des Rate...</td>\n",
       "      <td>Sadly, the Council's decisions are not always...</td>\n",
       "    </tr>\n",
       "    <tr>\n",
       "      <th>2</th>\n",
       "      <td>Dies ist das Prinzip vom 11. März 2011.</td>\n",
       "      <td>This is the principle of 11 March 2011.</td>\n",
       "    </tr>\n",
       "    <tr>\n",
       "      <th>3</th>\n",
       "      <td>In Bezug auf den Inhalt des Dossiers möchte ic...</td>\n",
       "      <td>Regarding the substance of the dossier, witho...</td>\n",
       "    </tr>\n",
       "    <tr>\n",
       "      <th>4</th>\n",
       "      <td>Ich warne vor Vereinfachungen. Drei Vereinfach...</td>\n",
       "      <td>I would warn against over-simplification, thr...</td>\n",
       "    </tr>\n",
       "  </tbody>\n",
       "</table>\n",
       "</div>"
      ],
      "text/plain": [
       "                                                 ger  \\\n",
       "0  Gegenwärtig hat jeder fünfte Mensch auf der We...   \n",
       "1  Leider entsprechen die Entscheidungen des Rate...   \n",
       "2           Dies ist das Prinzip vom 11. März 2011.    \n",
       "3  In Bezug auf den Inhalt des Dossiers möchte ic...   \n",
       "4  Ich warne vor Vereinfachungen. Drei Vereinfach...   \n",
       "\n",
       "                                                 eng  \n",
       "0   At present, one in five people across the glo...  \n",
       "1   Sadly, the Council's decisions are not always...  \n",
       "2            This is the principle of 11 March 2011.  \n",
       "3   Regarding the substance of the dossier, witho...  \n",
       "4   I would warn against over-simplification, thr...  "
      ]
     },
     "execution_count": 119,
     "metadata": {},
     "output_type": "execute_result"
    }
   ],
   "source": [
    "train.head()"
   ]
  },
  {
   "cell_type": "code",
   "execution_count": 120,
   "metadata": {},
   "outputs": [
    {
     "data": {
      "text/html": [
       "<div>\n",
       "<style scoped>\n",
       "    .dataframe tbody tr th:only-of-type {\n",
       "        vertical-align: middle;\n",
       "    }\n",
       "\n",
       "    .dataframe tbody tr th {\n",
       "        vertical-align: top;\n",
       "    }\n",
       "\n",
       "    .dataframe thead th {\n",
       "        text-align: right;\n",
       "    }\n",
       "</style>\n",
       "<table border=\"1\" class=\"dataframe\">\n",
       "  <thead>\n",
       "    <tr style=\"text-align: right;\">\n",
       "      <th></th>\n",
       "      <th>ger</th>\n",
       "      <th>eng</th>\n",
       "    </tr>\n",
       "  </thead>\n",
       "  <tbody>\n",
       "    <tr>\n",
       "      <th>0</th>\n",
       "      <td>Handelsbeziehungen und Gipfelkonferenz EU/USA</td>\n",
       "      <td>EU/USA summit and trade relations</td>\n",
       "    </tr>\n",
       "    <tr>\n",
       "      <th>1</th>\n",
       "      <td>Die Versuche gehen ja nun schon lange, sie sin...</td>\n",
       "      <td>Efforts have been going on for a long time no...</td>\n",
       "    </tr>\n",
       "    <tr>\n",
       "      <th>2</th>\n",
       "      <td>Ein Beispiel: für Fische wie den Seehecht, der...</td>\n",
       "      <td>To give you an example, fish such as hake 11 ...</td>\n",
       "    </tr>\n",
       "    <tr>\n",
       "      <th>3</th>\n",
       "      <td>Wenn Sie mit der gleichen Energie und mit der ...</td>\n",
       "      <td>If you act at European level with the same en...</td>\n",
       "    </tr>\n",
       "    <tr>\n",
       "      <th>4</th>\n",
       "      <td>Ich muss alle, die diesen Änderungsantrag vorg...</td>\n",
       "      <td>I have to ask those who proposed the amendmen...</td>\n",
       "    </tr>\n",
       "  </tbody>\n",
       "</table>\n",
       "</div>"
      ],
      "text/plain": [
       "                                                 ger  \\\n",
       "0     Handelsbeziehungen und Gipfelkonferenz EU/USA    \n",
       "1  Die Versuche gehen ja nun schon lange, sie sin...   \n",
       "2  Ein Beispiel: für Fische wie den Seehecht, der...   \n",
       "3  Wenn Sie mit der gleichen Energie und mit der ...   \n",
       "4  Ich muss alle, die diesen Änderungsantrag vorg...   \n",
       "\n",
       "                                                 eng  \n",
       "0                  EU/USA summit and trade relations  \n",
       "1   Efforts have been going on for a long time no...  \n",
       "2   To give you an example, fish such as hake 11 ...  \n",
       "3   If you act at European level with the same en...  \n",
       "4   I have to ask those who proposed the amendmen...  "
      ]
     },
     "execution_count": 120,
     "metadata": {},
     "output_type": "execute_result"
    }
   ],
   "source": [
    "val.head()"
   ]
  },
  {
   "cell_type": "code",
   "execution_count": 121,
   "metadata": {},
   "outputs": [
    {
     "data": {
      "text/html": [
       "<div>\n",
       "<style scoped>\n",
       "    .dataframe tbody tr th:only-of-type {\n",
       "        vertical-align: middle;\n",
       "    }\n",
       "\n",
       "    .dataframe tbody tr th {\n",
       "        vertical-align: top;\n",
       "    }\n",
       "\n",
       "    .dataframe thead th {\n",
       "        text-align: right;\n",
       "    }\n",
       "</style>\n",
       "<table border=\"1\" class=\"dataframe\">\n",
       "  <thead>\n",
       "    <tr style=\"text-align: right;\">\n",
       "      <th></th>\n",
       "      <th>ger</th>\n",
       "      <th>eng</th>\n",
       "    </tr>\n",
       "  </thead>\n",
       "  <tbody>\n",
       "    <tr>\n",
       "      <th>0</th>\n",
       "      <td>Möge er so weitermachen!</td>\n",
       "      <td>May he continue to do so.</td>\n",
       "    </tr>\n",
       "    <tr>\n",
       "      <th>1</th>\n",
       "      <td>Es geht jedoch um einen neuen Ansatz, über den...</td>\n",
       "      <td>However, it is about a new approach that I re...</td>\n",
       "    </tr>\n",
       "    <tr>\n",
       "      <th>2</th>\n",
       "      <td>Diese spontanen Beweise der Solidarität waren ...</td>\n",
       "      <td>This spontaneous show of solidarity has been ...</td>\n",
       "    </tr>\n",
       "    <tr>\n",
       "      <th>3</th>\n",
       "      <td>Die beiden schwierigeren Punkte betrafen die A...</td>\n",
       "      <td>The two more difficult points concerned the a...</td>\n",
       "    </tr>\n",
       "    <tr>\n",
       "      <th>4</th>\n",
       "      <td>Alle leben noch in Angst.</td>\n",
       "      <td>Everyone is still afraid.</td>\n",
       "    </tr>\n",
       "  </tbody>\n",
       "</table>\n",
       "</div>"
      ],
      "text/plain": [
       "                                                 ger  \\\n",
       "0                          Möge er so weitermachen!    \n",
       "1  Es geht jedoch um einen neuen Ansatz, über den...   \n",
       "2  Diese spontanen Beweise der Solidarität waren ...   \n",
       "3  Die beiden schwierigeren Punkte betrafen die A...   \n",
       "4                         Alle leben noch in Angst.    \n",
       "\n",
       "                                                 eng  \n",
       "0                          May he continue to do so.  \n",
       "1   However, it is about a new approach that I re...  \n",
       "2   This spontaneous show of solidarity has been ...  \n",
       "3   The two more difficult points concerned the a...  \n",
       "4                          Everyone is still afraid.  "
      ]
     },
     "execution_count": 121,
     "metadata": {},
     "output_type": "execute_result"
    }
   ],
   "source": [
    "test.head()"
   ]
  }
 ],
 "metadata": {
  "kernelspec": {
   "display_name": "TextMining",
   "language": "python",
   "name": "python3"
  },
  "language_info": {
   "codemirror_mode": {
    "name": "ipython",
    "version": 3
   },
   "file_extension": ".py",
   "mimetype": "text/x-python",
   "name": "python",
   "nbconvert_exporter": "python",
   "pygments_lexer": "ipython3",
   "version": "3.9.15"
  },
  "orig_nbformat": 4
 },
 "nbformat": 4,
 "nbformat_minor": 2
}
